{
 "cells": [
  {
   "cell_type": "markdown",
   "id": "ffa58103",
   "metadata": {},
   "source": [
    "# experiments\n",
    "\n",
    "> Functions for running InVEST script sweeps."
   ]
  },
  {
   "cell_type": "code",
   "execution_count": null,
   "id": "41bd19f2",
   "metadata": {},
   "outputs": [],
   "source": [
    "#| default_exp experiments"
   ]
  },
  {
   "cell_type": "code",
   "execution_count": null,
   "id": "40e606f3",
   "metadata": {},
   "outputs": [
    {
     "name": "stderr",
     "output_type": "stream",
     "text": [
      "/Users/alice/miniforge3/envs/muir-dev/lib/python3.10/site-packages/nbdev/doclinks.py:20: UserWarning: pkg_resources is deprecated as an API. See https://setuptools.pypa.io/en/latest/pkg_resources.html. The pkg_resources package is slated for removal as early as 2025-11-30. Refrain from using this package or pin to Setuptools<81.\n",
      "  import pkg_resources,importlib\n"
     ]
    }
   ],
   "source": [
    "#| hide\n",
    "from nbdev.showdoc import *"
   ]
  },
  {
   "cell_type": "code",
   "execution_count": null,
   "id": "29457d4c",
   "metadata": {},
   "outputs": [],
   "source": [
    "%load_ext autoreload\n",
    "%autoreload 2"
   ]
  },
  {
   "cell_type": "code",
   "execution_count": null,
   "id": "e6a70ab0",
   "metadata": {},
   "outputs": [],
   "source": [
    "#| export\n",
    "import rasterio\n",
    "import numpy as np\n",
    "import pandas as pd\n",
    "import geopandas as gpd\n",
    "import yaml\n",
    "import os"
   ]
  },
  {
   "cell_type": "code",
   "execution_count": null,
   "id": "1df6284f",
   "metadata": {},
   "outputs": [],
   "source": [
    "#| export\n",
    "from muir.core import *"
   ]
  },
  {
   "cell_type": "markdown",
   "id": "722ba0c9",
   "metadata": {},
   "source": [
    "## Prepare Experiments"
   ]
  },
  {
   "cell_type": "markdown",
   "id": "e231198f",
   "metadata": {},
   "source": [
    "We can export the InVEST template directly and generate the args list like this:"
   ]
  },
  {
   "cell_type": "code",
   "execution_count": null,
   "id": "9b0a017a",
   "metadata": {},
   "outputs": [
    {
     "data": {
      "text/plain": [
       "{'calc_sequestration': False,\n",
       " 'carbon_pools_path': '/Volumes/creek/muir/muir/demo/',\n",
       " 'discount_rate': '',\n",
       " 'do_valuation': False,\n",
       " 'lulc_alt_path': '/Volumes/creek/muir/muir/demo/',\n",
       " 'lulc_alt_year': '',\n",
       " 'lulc_bas_path': '/Volumes/creek/muir/muir/demo/',\n",
       " 'lulc_bas_year': '',\n",
       " 'price_per_metric_ton_of_c': '',\n",
       " 'rate_change': '',\n",
       " 'results_suffix': '',\n",
       " 'workspace_dir': ''}"
      ]
     },
     "execution_count": null,
     "metadata": {},
     "output_type": "execute_result"
    }
   ],
   "source": [
    "config_path = get_demo_path(\"configs/experiments/carbon_demo.yaml\")\n",
    "args = load_config(config_path, dlt=[\"base_data_path\"])\n",
    "args"
   ]
  },
  {
   "cell_type": "markdown",
   "id": "ca8cb300",
   "metadata": {},
   "source": [
    "We can also generate the scripts directly with custom logging."
   ]
  },
  {
   "cell_type": "code",
   "execution_count": null,
   "id": "9a12fe96",
   "metadata": {},
   "outputs": [
    {
     "name": "stdout",
     "output_type": "stream",
     "text": [
      "{\"annual_water_yield\": {\"model_title\": \"Annual Water Yield\", \"aliases\": [\"awy\", \"hwy\"]}, \"carbon\": {\"model_title\": \"Carbon Storage and Sequestration\", \"aliases\": []}, \"coastal_blue_carbon\": {\"model_title\": \"Coastal Blue Carbon\", \"aliases\": [\"cbc\"]}, \"coastal_blue_carbon_preprocessor\": {\"model_title\": \"Coastal Blue Carbon Preprocessor\", \"aliases\": [\"cbc_pre\"]}, \"coastal_vulnerability\": {\"model_title\": \"Coastal Vulnerability\", \"aliases\": [\"cv\"]}, \"crop_production_percentile\": {\"model_title\": \"Crop Production: Percentile\", \"aliases\": [\"cpp\"]}, \"crop_production_regression\": {\"model_title\": \"Crop Production: Regression\", \"aliases\": [\"cpr\"]}, \"delineateit\": {\"model_title\": \"DelineateIt\", \"aliases\": []}, \"forest_carbon_edge_effect\": {\"model_title\": \"Forest Carbon Edge Effect\", \"aliases\": [\"fc\"]}, \"habitat_quality\": {\"model_title\": \"Habitat Quality\", \"aliases\": [\"hq\"]}, \"habitat_risk_assessment\": {\"model_title\": \"Habitat Risk Assessment\", \"aliases\": [\"hra\"]}, \"ndr\": {\"model_title\": \"Nutrient Delivery Ratio\", \"aliases\": []}, \"pollination\": {\"model_title\": \"Crop Pollination\", \"aliases\": []}, \"recreation\": {\"model_title\": \"Visitation: Recreation and Tourism\", \"aliases\": []}, \"routedem\": {\"model_title\": \"RouteDEM\", \"aliases\": []}, \"scenario_generator_proximity\": {\"model_title\": \"Scenario Generator: Proximity Based\", \"aliases\": [\"sgp\"]}, \"scenic_quality\": {\"model_title\": \"Scenic Quality\", \"aliases\": [\"sq\"]}, \"sdr\": {\"model_title\": \"Sediment Delivery Ratio\", \"aliases\": []}, \"seasonal_water_yield\": {\"model_title\": \"Seasonal Water Yield\", \"aliases\": [\"swy\"]}, \"stormwater\": {\"model_title\": \"Urban Stormwater Retention\", \"aliases\": []}, \"urban_cooling_model\": {\"model_title\": \"Urban Cooling\", \"aliases\": [\"ucm\"]}, \"urban_flood_risk_mitigation\": {\"model_title\": \"Urban Flood Risk Mitigation\", \"aliases\": [\"ufrm\"]}, \"urban_nature_access\": {\"model_title\": \"Urban Nature Access\", \"aliases\": [\"una\"]}, \"wave_energy\": {\"model_title\": \"Wave Energy Production\", \"aliases\": []}, \"wind_energy\": {\"model_title\": \"Wind Energy Production\", \"aliases\": []}}\n"
     ]
    }
   ],
   "source": [
    "#| export\n",
    "\n",
    "import natcap.invest.cli\n",
    "\n",
    "model_details = natcap.invest.cli.build_model_list_json(\"en\")\n",
    "def prepare_execute_script(model, args):\n",
    "    with open(get_demo_path(\"execute_invest/ececute_invest_template.txt\")) as f:\n",
    "        template = f.read()\n",
    "\n",
    "    # Replace with valid\n",
    "    template.replace(\"[ARGS]\", pprint.pformat(args))\n",
    "\n",
    "\n",
    "print(model_details)"
   ]
  },
  {
   "cell_type": "code",
   "execution_count": null,
   "id": "be01680e",
   "metadata": {},
   "outputs": [
    {
     "name": "stdout",
     "output_type": "stream",
     "text": [
      "\n",
      "args = {'calc_sequestration': False,\n",
      " 'carbon_pools_path': '/Volumes/creek/muir/muir/demo/',\n",
      " 'discount_rate': '',\n",
      " 'do_valuation': False,\n",
      " 'lulc_alt_path': '/Volumes/creek/muir/muir/demo/',\n",
      " 'lulc_alt_year': '',\n",
      " 'lulc_bas_path': '/Volumes/creek/muir/muir/demo/',\n",
      " 'lulc_bas_year': '',\n",
      " 'price_per_metric_ton_of_c': '',\n",
      " 'rate_change': '',\n",
      " 'results_suffix': '',\n",
      " 'workspace_dir': ''}\n",
      "\n"
     ]
    }
   ],
   "source": [
    "import pprint\n",
    "template = \"\"\"\n",
    "args = [ARGS]\n",
    "\"\"\"\n",
    "\n",
    "print()"
   ]
  },
  {
   "cell_type": "code",
   "execution_count": null,
   "id": "9e3ea9b0",
   "metadata": {},
   "outputs": [
    {
     "name": "stdout",
     "output_type": "stream",
     "text": [
      "{'calc_sequestration': False,\n",
      " 'carbon_pools_path': '/Volumes/creek/muir/muir/demo/',\n",
      " 'discount_rate': '',\n",
      " 'do_valuation': False,\n",
      " 'lulc_alt_path': '/Volumes/creek/muir/muir/demo/',\n",
      " 'lulc_alt_year': '',\n",
      " 'lulc_bas_path': '/Volumes/creek/muir/muir/demo/',\n",
      " 'lulc_bas_year': '',\n",
      " 'price_per_metric_ton_of_c': '',\n",
      " 'rate_change': '',\n",
      " 'results_suffix': '',\n",
      " 'workspace_dir': ''}\n"
     ]
    }
   ],
   "source": [
    "import pprint\n",
    "\n",
    "pretty_args_str = pprint.pformat(args)\n",
    "print(pretty_args_str)\n"
   ]
  },
  {
   "cell_type": "code",
   "execution_count": null,
   "id": "6a50917a",
   "metadata": {},
   "outputs": [],
   "source": [
    "# TODO: To be continued.\n",
    "\n",
    "# check data layers and constants required.\n",
    "\n",
    "# can take a base config and create an experiment config (e.g. using defaults)"
   ]
  },
  {
   "cell_type": "markdown",
   "id": "cf4df683",
   "metadata": {},
   "source": [
    "## Run Experiments"
   ]
  },
  {
   "cell_type": "code",
   "execution_count": null,
   "id": "f0fe22da",
   "metadata": {},
   "outputs": [],
   "source": [
    "# run the raster checks and ensure they look good e"
   ]
  },
  {
   "cell_type": "code",
   "execution_count": null,
   "id": "c2859772",
   "metadata": {},
   "outputs": [],
   "source": [
    "#| hide\n",
    "import nbdev; nbdev.nbdev_export()"
   ]
  }
 ],
 "metadata": {
  "kernelspec": {
   "display_name": "python3",
   "language": "python",
   "name": "python3"
  }
 },
 "nbformat": 4,
 "nbformat_minor": 5
}
