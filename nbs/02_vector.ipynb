{
 "cells": [
  {
   "cell_type": "markdown",
   "id": "ffa58103",
   "metadata": {},
   "source": [
    "# raster\n",
    "\n",
    "> Functions for handling, checking, and validating rasters."
   ]
  },
  {
   "cell_type": "code",
   "execution_count": null,
   "id": "41bd19f2",
   "metadata": {},
   "outputs": [],
   "source": [
    "#| default_exp raster"
   ]
  },
  {
   "cell_type": "code",
   "execution_count": null,
   "id": "40e606f3",
   "metadata": {},
   "outputs": [],
   "source": [
    "#| hide\n",
    "from nbdev.showdoc import *"
   ]
  },
  {
   "cell_type": "code",
   "execution_count": null,
   "id": "29457d4c",
   "metadata": {},
   "outputs": [],
   "source": [
    "%load_ext autoreload\n",
    "%autoreload 2"
   ]
  },
  {
   "cell_type": "code",
   "execution_count": null,
   "id": "e6a70ab0",
   "metadata": {},
   "outputs": [],
   "source": [
    "import rasterio\n",
    "import numpy as np\n",
    "import pandas as pd\n",
    "import geopandas as gpd\n",
    "import yaml\n",
    "import os"
   ]
  },
  {
   "cell_type": "code",
   "execution_count": null,
   "id": "c2859772",
   "metadata": {},
   "outputs": [],
   "source": [
    "#| hide\n",
    "import nbdev; nbdev.nbdev_export()"
   ]
  }
 ],
 "metadata": {
  "kernelspec": {
   "display_name": "python3",
   "language": "python",
   "name": "python3"
  }
 },
 "nbformat": 4,
 "nbformat_minor": 5
}
