{
 "cells": [
  {
   "cell_type": "markdown",
   "id": "ffa58103",
   "metadata": {},
   "source": [
    "# raster\n",
    "\n",
    "> Functions for handling, checking, and validating rasters."
   ]
  },
  {
   "cell_type": "code",
   "execution_count": null,
   "id": "41bd19f2",
   "metadata": {},
   "outputs": [],
   "source": [
    "#| default_exp raster"
   ]
  },
  {
   "cell_type": "code",
   "execution_count": null,
   "id": "40e606f3",
   "metadata": {},
   "outputs": [
    {
     "name": "stderr",
     "output_type": "stream",
     "text": [
      "/Users/alice/miniforge3/envs/muir-dev/lib/python3.10/site-packages/nbdev/doclinks.py:20: UserWarning: pkg_resources is deprecated as an API. See https://setuptools.pypa.io/en/latest/pkg_resources.html. The pkg_resources package is slated for removal as early as 2025-11-30. Refrain from using this package or pin to Setuptools<81.\n",
      "  import pkg_resources,importlib\n"
     ]
    }
   ],
   "source": [
    "#| hide\n",
    "from nbdev.showdoc import *"
   ]
  },
  {
   "cell_type": "code",
   "execution_count": null,
   "id": "29457d4c",
   "metadata": {},
   "outputs": [],
   "source": [
    "%load_ext autoreload\n",
    "%autoreload 2"
   ]
  },
  {
   "cell_type": "code",
   "execution_count": null,
   "id": "e6a70ab0",
   "metadata": {},
   "outputs": [],
   "source": [
    "#| export\n",
    "import rasterio\n",
    "import numpy as np\n",
    "import pandas as pd\n",
    "import geopandas as gpd\n",
    "import yaml\n",
    "import os"
   ]
  },
  {
   "cell_type": "code",
   "execution_count": null,
   "id": "dbf7348b",
   "metadata": {},
   "outputs": [],
   "source": [
    "#| export\n",
    "from muir.core import *\n",
    "from muir.visualization import *"
   ]
  },
  {
   "cell_type": "code",
   "execution_count": null,
   "id": "c74a7d98",
   "metadata": {},
   "outputs": [],
   "source": [
    "#| hide\n",
    "config_path = get_demo_path(\"configs/preprocessing/preprocess-demo.yaml\")\n",
    "conf = load_config(config_path)"
   ]
  },
  {
   "cell_type": "markdown",
   "id": "09e8bdd8",
   "metadata": {},
   "source": [
    "## Prepare Layers"
   ]
  },
  {
   "cell_type": "code",
   "execution_count": null,
   "id": "10ee84e3",
   "metadata": {},
   "outputs": [],
   "source": [
    "#| export\n",
    "\n",
    "import rasterio\n",
    "from rasterio.warp import calculate_default_transform, reproject, Resampling\n",
    "\n",
    "# adapted from https://rasterio.readthedocs.io/en/latest/topics/reproject.html\n",
    "def warp_raster(input_path, output_path, dst_crs, resampling=Resampling.nearest):\n",
    "    with rasterio.open(input_path) as src:\n",
    "        transform, width, height = calculate_default_transform(\n",
    "            src.crs, dst_crs, src.width, src.height, *src.bounds)\n",
    "        kwargs = src.meta.copy()\n",
    "        kwargs.update({\n",
    "            'crs': dst_crs,\n",
    "            'transform': transform,\n",
    "            'width': width,\n",
    "            'height': height\n",
    "        })\n",
    "        with rasterio.open(output_path, 'w', **kwargs) as dst:\n",
    "            for i in range(1, src.count + 1):\n",
    "                reproject(\n",
    "                    source=rasterio.band(src, i),\n",
    "                    destination=rasterio.band(dst, i),\n",
    "                    src_transform=src.transform,\n",
    "                    src_crs=src.crs,\n",
    "                    dst_transform=transform,\n",
    "                    dst_crs=dst_crs,\n",
    "                    resampling=resampling\n",
    "                )"
   ]
  },
  {
   "cell_type": "code",
   "execution_count": null,
   "id": "8bf74282",
   "metadata": {},
   "outputs": [],
   "source": [
    "#| export\n",
    "\n",
    "import fiona\n",
    "import rasterio\n",
    "import rasterio.mask\n",
    "\n",
    "# adapted from https://rasterio.readthedocs.io/en/latest/topics/masking-by-shapefile.html\n",
    "def clip_raster_with_shape(\n",
    "    input_path: str,         # Path to the input raster\n",
    "    shapefile_path: str,     # Path to the shapefile\n",
    "    output_path: str         # Path to save the clipped raster\n",
    "):\n",
    "    with fiona.open(shapefile_path, \"r\") as shapefile:\n",
    "        shapes = [feature[\"geometry\"] for feature in shapefile]\n",
    "\n",
    "    with rasterio.open(input_path) as src:\n",
    "        out_image, out_transform = rasterio.mask.mask(src, shapes, crop=True)\n",
    "        out_meta = src.meta.copy()\n",
    "\n",
    "    out_meta.update({\n",
    "        \"driver\": \"GTiff\",\n",
    "        \"height\": out_image.shape[1],\n",
    "        \"width\": out_image.shape[2],\n",
    "        \"transform\": out_transform\n",
    "    })\n",
    "\n",
    "    with rasterio.open(output_path, \"w\", **out_meta) as dest:\n",
    "        dest.write(out_image)\n",
    "    \n",
    "    return output_path"
   ]
  },
  {
   "cell_type": "code",
   "execution_count": null,
   "id": "5294d468",
   "metadata": {},
   "outputs": [],
   "source": [
    "#| export\n",
    "from muir import SKIP_SYMBOL\n",
    "\n",
    "def set_nodata(\n",
    "        input_path:str,  # input raster\n",
    "        output_path:str, # save new raster to this file\n",
    "        nodata # nodata value or none\n",
    "):\n",
    "    if nodata is None: # skip \n",
    "        return SKIP_SYMBOL\n",
    "    with rasterio.open(input_path) as src:\n",
    "        meta = src.meta.copy()\n",
    "        meta.update(nodata=nodata)\n",
    "        data = src.read()\n",
    "    with rasterio.open(output_path, \"w\", **meta) as dst:\n",
    "        dst.write(data)"
   ]
  },
  {
   "cell_type": "code",
   "execution_count": null,
   "id": "3afdbf75",
   "metadata": {},
   "outputs": [],
   "source": [
    "#| export\n",
    "from osgeo import gdal\n",
    "\n",
    "def fill_nodata_with_gdal(\n",
    "        input_path, \n",
    "        output_path,\n",
    "        max_search_dist=100,\n",
    "        smoothing_iterations=0\n",
    "):\n",
    "    \"\"\"\n",
    "    Fill NoData values in a raster using GDAL's nearest neighbor algorithm.\n",
    "    \"\"\"\n",
    "    # Open input raster\n",
    "    src_ds = gdal.Open(input_path, gdal.GA_ReadOnly)\n",
    "    band = src_ds.GetRasterBand(1)\n",
    "    nodata = band.GetNoDataValue()\n",
    "\n",
    "    # Create a copy for output\n",
    "    driver = gdal.GetDriverByName('GTiff')\n",
    "    dst_ds = driver.CreateCopy(output_path, src_ds, 0)\n",
    "    dst_band = dst_ds.GetRasterBand(1)\n",
    "\n",
    "    # Fill NoData using nearest neighbor\n",
    "    gdal.FillNodata(\n",
    "        targetBand=dst_band, \n",
    "        maskBand=None, \n",
    "        maxSearchDist=max_search_dist, \n",
    "        smoothingIterations=smoothing_iterations\n",
    "    )\n",
    "\n",
    "    # Set NoData value\n",
    "    if nodata is not None:\n",
    "        dst_band.SetNoDataValue(nodata)\n",
    "\n",
    "    dst_band.FlushCache()\n",
    "    dst_ds.FlushCache()\n",
    "    dst_ds = None\n",
    "    src_ds = None"
   ]
  },
  {
   "cell_type": "markdown",
   "id": "a64d631e",
   "metadata": {},
   "source": [
    "## Raster Checks"
   ]
  },
  {
   "cell_type": "markdown",
   "id": "613387ac",
   "metadata": {},
   "source": [
    "idea: do own raster class / layer class. keep a memory of steps applied to it.\n",
    "keep a paths? \n",
    "when doing print in jupyter notebook automatically print a small thumbnail of it for display + \n",
    "print metadata about it.<\n",
    "\n",
    "idea: do a screen of a raster path\n",
    "check: \n",
    "  - correct projection? (project crs)\n",
    "  - is a nodata value set?\n",
    "  - no nodata values inside AOI?\n",
    "\n",
    "then suggest pipeline steps\n",
    "  - setnodata, warp, fill_nodata, clip, etc. -->\n"
   ]
  },
  {
   "cell_type": "code",
   "execution_count": null,
   "id": "8691888b",
   "metadata": {},
   "outputs": [],
   "source": [
    "#| export\n",
    "import pygeoprocessing as pyg\n",
    "\n",
    "def suggest_nodata(\n",
    "        input_path: str # raster path\n",
    "):\n",
    "    dtype = pyg.geoprocessing.choose_dtype(input_path)\n",
    "    suggested_nodata = pyg.geoprocessing.choose_nodata(dtype)\n",
    "    return suggested_nodata"
   ]
  },
  {
   "cell_type": "code",
   "execution_count": null,
   "id": "1460760a",
   "metadata": {},
   "outputs": [],
   "source": [
    "#| export\n",
    "from muir.core import pathname\n",
    "\n",
    "def check_raster_nodata(\n",
    "        rasters:str|list # raster paths to check\n",
    "):\n",
    "    \"\"\"\n",
    "    Check if raster(s) have a nodata value set.\n",
    "    Accepts a single path (str), a list of paths, or a dict of paths.\n",
    "    Prints a status message for each raster.\n",
    "    \"\"\"\n",
    "    def check_one(path):\n",
    "        with rasterio.open(path) as src:\n",
    "            if src.nodata is None:\n",
    "                print(f\"❌ No Nodata set for: {pathname(path)}\")\n",
    "            else:\n",
    "                print(f\"✅ Nodata set for: {pathname(path)}\")\n",
    "\n",
    "    if isinstance(rasters, str):\n",
    "        check_one(rasters)\n",
    "    elif isinstance(rasters, list):\n",
    "        for path in rasters:\n",
    "            check_one(path)"
   ]
  },
  {
   "cell_type": "code",
   "execution_count": null,
   "id": "d304a6d9",
   "metadata": {},
   "outputs": [],
   "source": [
    "#| export\n",
    "\n",
    "import rasterio\n",
    "from rasterio.mask import mask\n",
    "import geopandas as gpd\n",
    "import numpy as np\n",
    "\n",
    "# TODO: not working as properly, also considers stuff outside the shapefile\n",
    "def check_nodata_in_extent(rasters, shapefile_path):\n",
    "    # Read the shapefile geometry\n",
    "    shapes = gpd.read_file(shapefile_path)\n",
    "    geoms = shapes.geometry.values\n",
    "\n",
    "    def _check_one(input_path):\n",
    "        # Open the raster and mask it with the shape\n",
    "        with rasterio.open(input_path) as src:\n",
    "            out_image, out_transform = mask(src, geoms, crop=True)\n",
    "            nodata = src.nodata\n",
    "\n",
    "        # Check for nodata in the masked array\n",
    "        nodata_count = np.sum(out_image == nodata)\n",
    "        total_count = out_image.size\n",
    "\n",
    "        # \n",
    "        if nodata_count == 0:\n",
    "            print(f\"✅ No `NoData` values in extent: {pathname(input_path)}\")\n",
    "        else:\n",
    "            print(f\"❌ NoData in extent: {pathname(input_path)}\")\n",
    "            print(f\"\\tNoData Count: {nodata_count}\")\n",
    "            print(f\"\\tTotal  Count: {total_count}\")\n",
    "            print(f\"\\tFrctn NoData: {(nodata_count / total_count):.2f}\")\n",
    "\n",
    "    if isinstance(rasters, str):\n",
    "        _check_one(rasters)\n",
    "    elif isinstance(rasters, list):\n",
    "        for input_path in rasters:\n",
    "            _check_one(rasters)"
   ]
  },
  {
   "cell_type": "code",
   "execution_count": null,
   "id": "f1e024d8",
   "metadata": {},
   "outputs": [],
   "source": [
    "#| export\n",
    "from pathlib import Path\n",
    "def check_projection(projection, paths):\n",
    "    \"\"\"\n",
    "    Checks if each raster in paths has the specified projection (CRS).\n",
    "    Prints a status message with emojis and the pathname for each raster.\n",
    "    \"\"\"\n",
    "    def check_one(path):\n",
    "        with rasterio.open(path) as src:\n",
    "            crs_str = src.crs.to_string() if src.crs else None\n",
    "            if crs_str == projection:\n",
    "                print(f\"✅ Projection OK for: {pathname(path)}\")\n",
    "            else:\n",
    "                print(f\"❌ Projection mismatch for: {pathname(path)} (found: {crs_str})\")\n",
    "\n",
    "    if isinstance(paths, str) or isinstance(paths, Path):\n",
    "        check_one(paths)\n",
    "    elif isinstance(paths, list):\n",
    "        for path in paths:\n",
    "            check_one(path)\n",
    "    elif isinstance(paths, dict):\n",
    "        for key, path in paths.items():\n",
    "            check_one(path)\n"
   ]
  },
  {
   "cell_type": "markdown",
   "id": "5bda9686",
   "metadata": {},
   "source": [
    "For example:"
   ]
  },
  {
   "cell_type": "code",
   "execution_count": null,
   "id": "8fc1db5f",
   "metadata": {},
   "outputs": [
    {
     "name": "stdout",
     "output_type": "stream",
     "text": [
      "❌ Projection mismatch for: mapbiomas-30m-2023-bbox.tif (found: EPSG:4326)\n"
     ]
    }
   ],
   "source": [
    "check_projection(\n",
    "    \"EPSG:5880\",\n",
    "    get_demo_path(\"lulc/raw/mapbiomas-30m-2023-bbox.tif\")\n",
    ")"
   ]
  },
  {
   "cell_type": "code",
   "execution_count": null,
   "id": "c4de366a",
   "metadata": {},
   "outputs": [
    {
     "name": "stdout",
     "output_type": "stream",
     "text": [
      "✅ Projection OK for: mapbiomas-30m-2023-5880.tif\n"
     ]
    }
   ],
   "source": [
    "check_projection(\n",
    "    \"EPSG:5880\",\n",
    "    get_demo_path(\"lulc/mapbiomas-30m-2023-5880.tif\")\n",
    ")"
   ]
  },
  {
   "cell_type": "code",
   "execution_count": null,
   "id": "5fc91abf",
   "metadata": {},
   "outputs": [],
   "source": [
    "#| export\n",
    "def check_raster(\n",
    "    raster_path,           # Path to raster file\n",
    "    projection=None,       # Projection string to check (optional)\n",
    "    aoi_path=None          # Path to AOI shapefile (optional)\n",
    "):\n",
    "    \"\"\"\n",
    "    Runs a suite of checks on a raster:\n",
    "      - Checks if nodata is set\n",
    "      - Checks for nodata values inside AOI (if provided)\n",
    "      - Checks projection (if provided)\n",
    "    \"\"\"\n",
    "    print(f\"--- Checking raster: {pathname(raster_path)} ---\")\n",
    "    check_raster_nodata(raster_path)\n",
    "    if projection is not None:\n",
    "        check_projection(projection, raster_path)\n",
    "    if aoi_path is not None:\n",
    "        check_nodata_in_extent(raster_path, aoi_path)"
   ]
  },
  {
   "cell_type": "markdown",
   "id": "cc6463a1",
   "metadata": {},
   "source": [
    "## Metadata And Statistics"
   ]
  },
  {
   "cell_type": "code",
   "execution_count": null,
   "id": "8d7ef226",
   "metadata": {},
   "outputs": [],
   "source": [
    "#| export\n",
    "\n",
    "def print_raster_info(input_path):\n",
    "    with rasterio.open(input_path) as src:\n",
    "        print(\"CRS:\", src.crs)\n",
    "        print(\"Width, Height:\", src.width, src.height)\n",
    "        print(\"Bounds:\", src.bounds)\n",
    "        print(\"Transform:\", src.transform)\n",
    "        print(\"Number of bands:\", src.count)\n",
    "        print(\"Data type:\", src.dtypes)\n",
    "        print(\"NoData value:\", src.nodata)\n",
    "        print(\"Resolution:\", src.res)"
   ]
  },
  {
   "cell_type": "markdown",
   "id": "acff3c16",
   "metadata": {},
   "source": [
    "Let's get the stats and area of a LULC raster."
   ]
  },
  {
   "cell_type": "code",
   "execution_count": null,
   "id": "f2daed05",
   "metadata": {},
   "outputs": [],
   "source": [
    "#| export\n",
    "def get_unique_classes(raster_path):\n",
    "    with rasterio.open(raster_path) as src:\n",
    "        raster_data = src.read(1)\n",
    "        unique_classes = np.unique(raster_data)\n",
    "    return unique_classes"
   ]
  },
  {
   "cell_type": "markdown",
   "id": "4690d9bb",
   "metadata": {},
   "source": [
    "We can get the unique labels like this:"
   ]
  },
  {
   "cell_type": "code",
   "execution_count": null,
   "id": "c617b168",
   "metadata": {},
   "outputs": [
    {
     "data": {
      "text/plain": [
       "array([ 0,  3,  5,  9, 11, 12, 15, 20, 21, 23, 24, 25, 29, 30, 31, 32, 33,\n",
       "       39, 41, 46, 48, 49, 50], dtype=uint8)"
      ]
     },
     "execution_count": null,
     "metadata": {},
     "output_type": "execute_result"
    }
   ],
   "source": [
    "lulc_bbox_path = get_demo_path(\"lulc/raw/mapbiomas-30m-2023-bbox.tif\")\n",
    "lulc_classes = get_unique_classes(lulc_bbox_path)\n",
    "lulc_classes"
   ]
  },
  {
   "cell_type": "markdown",
   "id": "bf34d6d1",
   "metadata": {},
   "source": [
    "We can parse LULC codes like this:"
   ]
  },
  {
   "cell_type": "code",
   "execution_count": null,
   "id": "ebe407ab",
   "metadata": {},
   "outputs": [
    {
     "name": "stdout",
     "output_type": "stream",
     "text": [
      "Total rows: 37\n"
     ]
    },
    {
     "data": {
      "application/vnd.microsoft.datawrangler.viewer.v0+json": {
       "columns": [
        {
         "name": "index",
         "rawType": "int64",
         "type": "integer"
        },
        {
         "name": "class",
         "rawType": "int64",
         "type": "integer"
        },
        {
         "name": "color_rgb",
         "rawType": "object",
         "type": "unknown"
        },
        {
         "name": "color_hex",
         "rawType": "object",
         "type": "string"
        },
        {
         "name": "class_name",
         "rawType": "object",
         "type": "string"
        }
       ],
       "ref": "6441d98b-406d-49ad-8077-96000f1ffe1e",
       "rows": [
        [
         "0",
         "1",
         "(31, 141, 73)",
         "#1f8d49",
         "Forest"
        ],
        [
         "1",
         "3",
         "(31, 141, 73)",
         "#1f8d49",
         "Forest Formation"
        ]
       ],
       "shape": {
        "columns": 4,
        "rows": 2
       }
      },
      "text/html": [
       "<div>\n",
       "<style scoped>\n",
       "    .dataframe tbody tr th:only-of-type {\n",
       "        vertical-align: middle;\n",
       "    }\n",
       "\n",
       "    .dataframe tbody tr th {\n",
       "        vertical-align: top;\n",
       "    }\n",
       "\n",
       "    .dataframe thead th {\n",
       "        text-align: right;\n",
       "    }\n",
       "</style>\n",
       "<table border=\"1\" class=\"dataframe\">\n",
       "  <thead>\n",
       "    <tr style=\"text-align: right;\">\n",
       "      <th></th>\n",
       "      <th>class</th>\n",
       "      <th>color_rgb</th>\n",
       "      <th>color_hex</th>\n",
       "      <th>class_name</th>\n",
       "    </tr>\n",
       "  </thead>\n",
       "  <tbody>\n",
       "    <tr>\n",
       "      <th>0</th>\n",
       "      <td>1</td>\n",
       "      <td>(31, 141, 73)</td>\n",
       "      <td>#1f8d49</td>\n",
       "      <td>Forest</td>\n",
       "    </tr>\n",
       "    <tr>\n",
       "      <th>1</th>\n",
       "      <td>3</td>\n",
       "      <td>(31, 141, 73)</td>\n",
       "      <td>#1f8d49</td>\n",
       "      <td>Forest Formation</td>\n",
       "    </tr>\n",
       "  </tbody>\n",
       "</table>\n",
       "</div>"
      ],
      "text/plain": [
       "   class      color_rgb color_hex        class_name\n",
       "0      1  (31, 141, 73)   #1f8d49            Forest\n",
       "1      3  (31, 141, 73)   #1f8d49  Forest Formation"
      ]
     },
     "execution_count": null,
     "metadata": {},
     "output_type": "execute_result"
    }
   ],
   "source": [
    "lulc_clr_path = get_demo_path(\"lulc/mapbiomas-lulc-color-codes.clr\")\n",
    "class_mapping = parse_clr(lulc_clr_path)\n",
    "print(f\"Total rows: {len(class_mapping)}\")\n",
    "class_mapping.head(2)"
   ]
  },
  {
   "cell_type": "code",
   "execution_count": null,
   "id": "d84e4484",
   "metadata": {},
   "outputs": [],
   "source": [
    "#| export\n",
    "def load_lulc(lulc_tif_path, lulc_clr_path):\n",
    "    unique_classes = get_unique_classes(lulc_tif_path)\n",
    "    class_mapping = parse_clr(lulc_clr_path)\n",
    "    relevant_classes = class_mapping[class_mapping['class'].isin(unique_classes)].reset_index(drop=True)\n",
    "    return relevant_classes"
   ]
  },
  {
   "cell_type": "code",
   "execution_count": null,
   "id": "8aa5e9eb",
   "metadata": {},
   "outputs": [
    {
     "name": "stdout",
     "output_type": "stream",
     "text": [
      "Total rows: 22\n"
     ]
    },
    {
     "data": {
      "application/vnd.microsoft.datawrangler.viewer.v0+json": {
       "columns": [
        {
         "name": "index",
         "rawType": "int64",
         "type": "integer"
        },
        {
         "name": "class",
         "rawType": "int64",
         "type": "integer"
        },
        {
         "name": "color_rgb",
         "rawType": "object",
         "type": "unknown"
        },
        {
         "name": "color_hex",
         "rawType": "object",
         "type": "string"
        },
        {
         "name": "class_name",
         "rawType": "object",
         "type": "string"
        }
       ],
       "ref": "ad00bde7-3758-42a0-91de-ec871f5b40c8",
       "rows": [
        [
         "0",
         "3",
         "(31, 141, 73)",
         "#1f8d49",
         "Forest Formation"
        ],
        [
         "1",
         "5",
         "(4, 56, 29)",
         "#04381d",
         "Mangrove"
        ]
       ],
       "shape": {
        "columns": 4,
        "rows": 2
       }
      },
      "text/html": [
       "<div>\n",
       "<style scoped>\n",
       "    .dataframe tbody tr th:only-of-type {\n",
       "        vertical-align: middle;\n",
       "    }\n",
       "\n",
       "    .dataframe tbody tr th {\n",
       "        vertical-align: top;\n",
       "    }\n",
       "\n",
       "    .dataframe thead th {\n",
       "        text-align: right;\n",
       "    }\n",
       "</style>\n",
       "<table border=\"1\" class=\"dataframe\">\n",
       "  <thead>\n",
       "    <tr style=\"text-align: right;\">\n",
       "      <th></th>\n",
       "      <th>class</th>\n",
       "      <th>color_rgb</th>\n",
       "      <th>color_hex</th>\n",
       "      <th>class_name</th>\n",
       "    </tr>\n",
       "  </thead>\n",
       "  <tbody>\n",
       "    <tr>\n",
       "      <th>0</th>\n",
       "      <td>3</td>\n",
       "      <td>(31, 141, 73)</td>\n",
       "      <td>#1f8d49</td>\n",
       "      <td>Forest Formation</td>\n",
       "    </tr>\n",
       "    <tr>\n",
       "      <th>1</th>\n",
       "      <td>5</td>\n",
       "      <td>(4, 56, 29)</td>\n",
       "      <td>#04381d</td>\n",
       "      <td>Mangrove</td>\n",
       "    </tr>\n",
       "  </tbody>\n",
       "</table>\n",
       "</div>"
      ],
      "text/plain": [
       "   class      color_rgb color_hex        class_name\n",
       "0      3  (31, 141, 73)   #1f8d49  Forest Formation\n",
       "1      5    (4, 56, 29)   #04381d          Mangrove"
      ]
     },
     "execution_count": null,
     "metadata": {},
     "output_type": "execute_result"
    }
   ],
   "source": [
    "lulc_df = load_lulc(lulc_bbox_path, lulc_clr_path)\n",
    "print(f\"Total rows: {len(lulc_df)}\")\n",
    "lulc_df.head(2)"
   ]
  },
  {
   "cell_type": "markdown",
   "id": "d4b1a9f5",
   "metadata": {},
   "source": [
    "Now, we can get some stats for each LULC class."
   ]
  },
  {
   "cell_type": "code",
   "execution_count": null,
   "id": "f68ae3be",
   "metadata": {},
   "outputs": [],
   "source": [
    "#| export\n",
    "def lulc_pixel_stats(\n",
    "    raster_path,\n",
    "    include_nodata = False\n",
    "):\n",
    "    \"\"\"\n",
    "    Returns a DataFrame with the number of pixels and area (in square meters) for each unique class in the raster.\n",
    "    Excludes nodata pixels unless include_nodata=True.\n",
    "    \"\"\"\n",
    "    with rasterio.open(raster_path) as src:\n",
    "        data = src.read(1)\n",
    "        pixel_area = abs(src.transform.a) * abs(src.transform.e)  # pixel width * pixel height\n",
    "        nodata = src.nodata\n",
    "\n",
    "    if not include_nodata and nodata is not None:\n",
    "        data = data[data != nodata]\n",
    "\n",
    "    classes, counts = np.unique(data, return_counts=True)\n",
    "    stats = []\n",
    "    for cls, count in zip(classes, counts):\n",
    "        area = count * pixel_area\n",
    "        stats.append({\n",
    "            'class': cls,\n",
    "            'pixel_count': count,\n",
    "            'area_m2': area\n",
    "        })\n",
    "    return pd.DataFrame(stats)\n"
   ]
  },
  {
   "cell_type": "code",
   "execution_count": null,
   "id": "11f0ebec",
   "metadata": {},
   "outputs": [
    {
     "data": {
      "application/vnd.microsoft.datawrangler.viewer.v0+json": {
       "columns": [
        {
         "name": "index",
         "rawType": "int64",
         "type": "integer"
        },
        {
         "name": "class",
         "rawType": "uint8",
         "type": "integer"
        },
        {
         "name": "pixel_count",
         "rawType": "int64",
         "type": "integer"
        },
        {
         "name": "area_m2",
         "rawType": "float64",
         "type": "float"
        }
       ],
       "ref": "2c66773e-1354-4141-af6a-5f69d7aa1f82",
       "rows": [
        [
         "0",
         "0",
         "8198013",
         "0.5953998075582257"
        ],
        [
         "1",
         "3",
         "11060266",
         "0.8032776049443673"
        ]
       ],
       "shape": {
        "columns": 3,
        "rows": 2
       }
      },
      "text/html": [
       "<div>\n",
       "<style scoped>\n",
       "    .dataframe tbody tr th:only-of-type {\n",
       "        vertical-align: middle;\n",
       "    }\n",
       "\n",
       "    .dataframe tbody tr th {\n",
       "        vertical-align: top;\n",
       "    }\n",
       "\n",
       "    .dataframe thead th {\n",
       "        text-align: right;\n",
       "    }\n",
       "</style>\n",
       "<table border=\"1\" class=\"dataframe\">\n",
       "  <thead>\n",
       "    <tr style=\"text-align: right;\">\n",
       "      <th></th>\n",
       "      <th>class</th>\n",
       "      <th>pixel_count</th>\n",
       "      <th>area_m2</th>\n",
       "    </tr>\n",
       "  </thead>\n",
       "  <tbody>\n",
       "    <tr>\n",
       "      <th>0</th>\n",
       "      <td>0</td>\n",
       "      <td>8198013</td>\n",
       "      <td>0.595400</td>\n",
       "    </tr>\n",
       "    <tr>\n",
       "      <th>1</th>\n",
       "      <td>3</td>\n",
       "      <td>11060266</td>\n",
       "      <td>0.803278</td>\n",
       "    </tr>\n",
       "  </tbody>\n",
       "</table>\n",
       "</div>"
      ],
      "text/plain": [
       "   class  pixel_count   area_m2\n",
       "0      0      8198013  0.595400\n",
       "1      3     11060266  0.803278"
      ]
     },
     "execution_count": null,
     "metadata": {},
     "output_type": "execute_result"
    }
   ],
   "source": [
    "pixel_stats = lulc_pixel_stats(lulc_bbox_path)\n",
    "pixel_stats.head(2)"
   ]
  },
  {
   "cell_type": "code",
   "execution_count": null,
   "id": "c43b463a",
   "metadata": {},
   "outputs": [
    {
     "data": {
      "application/vnd.microsoft.datawrangler.viewer.v0+json": {
       "columns": [
        {
         "name": "index",
         "rawType": "int64",
         "type": "integer"
        },
        {
         "name": "class",
         "rawType": "int64",
         "type": "integer"
        },
        {
         "name": "color_rgb",
         "rawType": "object",
         "type": "unknown"
        },
        {
         "name": "color_hex",
         "rawType": "object",
         "type": "string"
        },
        {
         "name": "class_name",
         "rawType": "object",
         "type": "string"
        },
        {
         "name": "pixel_count",
         "rawType": "int64",
         "type": "integer"
        },
        {
         "name": "area_m2",
         "rawType": "float64",
         "type": "float"
        }
       ],
       "ref": "b2f70bda-f05a-4487-964b-37ab88214f1c",
       "rows": [
        [
         "0",
         "3",
         "(31, 141, 73)",
         "#1f8d49",
         "Forest Formation",
         "11060266",
         "0.8032776049443673"
        ],
        [
         "1",
         "5",
         "(4, 56, 29)",
         "#04381d",
         "Mangrove",
         "110531",
         "0.00802757157487043"
        ]
       ],
       "shape": {
        "columns": 6,
        "rows": 2
       }
      },
      "text/html": [
       "<div>\n",
       "<style scoped>\n",
       "    .dataframe tbody tr th:only-of-type {\n",
       "        vertical-align: middle;\n",
       "    }\n",
       "\n",
       "    .dataframe tbody tr th {\n",
       "        vertical-align: top;\n",
       "    }\n",
       "\n",
       "    .dataframe thead th {\n",
       "        text-align: right;\n",
       "    }\n",
       "</style>\n",
       "<table border=\"1\" class=\"dataframe\">\n",
       "  <thead>\n",
       "    <tr style=\"text-align: right;\">\n",
       "      <th></th>\n",
       "      <th>class</th>\n",
       "      <th>color_rgb</th>\n",
       "      <th>color_hex</th>\n",
       "      <th>class_name</th>\n",
       "      <th>pixel_count</th>\n",
       "      <th>area_m2</th>\n",
       "    </tr>\n",
       "  </thead>\n",
       "  <tbody>\n",
       "    <tr>\n",
       "      <th>0</th>\n",
       "      <td>3</td>\n",
       "      <td>(31, 141, 73)</td>\n",
       "      <td>#1f8d49</td>\n",
       "      <td>Forest Formation</td>\n",
       "      <td>11060266</td>\n",
       "      <td>0.803278</td>\n",
       "    </tr>\n",
       "    <tr>\n",
       "      <th>1</th>\n",
       "      <td>5</td>\n",
       "      <td>(4, 56, 29)</td>\n",
       "      <td>#04381d</td>\n",
       "      <td>Mangrove</td>\n",
       "      <td>110531</td>\n",
       "      <td>0.008028</td>\n",
       "    </tr>\n",
       "  </tbody>\n",
       "</table>\n",
       "</div>"
      ],
      "text/plain": [
       "   class      color_rgb color_hex        class_name  pixel_count   area_m2\n",
       "0      3  (31, 141, 73)   #1f8d49  Forest Formation     11060266  0.803278\n",
       "1      5    (4, 56, 29)   #04381d          Mangrove       110531  0.008028"
      ]
     },
     "execution_count": null,
     "metadata": {},
     "output_type": "execute_result"
    }
   ],
   "source": [
    "lulc_stats = pd.merge(lulc_df, pixel_stats, on=\"class\", how=\"left\")\n",
    "lulc_stats.head(2)"
   ]
  },
  {
   "cell_type": "code",
   "execution_count": null,
   "id": "b5e49b25",
   "metadata": {},
   "outputs": [],
   "source": [
    "lulc_stats_path = get_demo_path(\"lulc/mapbiomas-30m-2023-bbox.csv\")\n",
    "lulc_stats.to_csv(lulc_stats_path, index=False)"
   ]
  },
  {
   "cell_type": "markdown",
   "id": "cde37f74",
   "metadata": {},
   "source": [
    "## Utilities"
   ]
  },
  {
   "cell_type": "code",
   "execution_count": null,
   "id": "c003afd8",
   "metadata": {},
   "outputs": [],
   "source": [
    "#| export\n",
    "def get_coarsest_resolution(\n",
    "    raster_paths: list[str]  # List of raster file paths\n",
    "):\n",
    "    \"\"\"\n",
    "    Find the coarsest (largest) pixel size among all rasters.\n",
    "    Ensures all rasters have the same CRS. Returns (resolution, unit).\n",
    "    \"\"\"\n",
    "    crs_set = set()\n",
    "    resolutions = []\n",
    "    for rpath in raster_paths:\n",
    "        with rasterio.open(rpath) as src:\n",
    "            crs_set.add(src.crs.to_string())\n",
    "            res = max(src.res)\n",
    "            resolutions.append(res)\n",
    "    if len(crs_set) > 1:\n",
    "        raise ValueError(f\"Rasters have different CRS: {crs_set}\")\n",
    "    crs = list(crs_set)[0]\n",
    "    # Determine unit\n",
    "    if \"degree\" in crs.lower() or \"longlat\" in crs.lower() or crs.startswith(\"EPSG:4326\"):\n",
    "        unit = \"degree\"\n",
    "    else:\n",
    "        unit = \"meter\"\n",
    "    return max(resolutions), unit"
   ]
  },
  {
   "cell_type": "code",
   "execution_count": null,
   "id": "c2859772",
   "metadata": {},
   "outputs": [],
   "source": [
    "#| hide\n",
    "import nbdev; nbdev.nbdev_export()"
   ]
  }
 ],
 "metadata": {
  "kernelspec": {
   "display_name": "python3",
   "language": "python",
   "name": "python3"
  }
 },
 "nbformat": 4,
 "nbformat_minor": 5
}
