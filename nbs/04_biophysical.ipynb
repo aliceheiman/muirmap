{
 "cells": [
  {
   "cell_type": "markdown",
   "id": "ffa58103",
   "metadata": {},
   "source": [
    "# biophysical\n",
    "\n",
    "> Functions for creating, modifying, and checking biphysical tables."
   ]
  },
  {
   "cell_type": "code",
   "execution_count": null,
   "id": "41bd19f2",
   "metadata": {},
   "outputs": [],
   "source": [
    "#| default_exp biophysical"
   ]
  },
  {
   "cell_type": "code",
   "execution_count": null,
   "id": "40e606f3",
   "metadata": {},
   "outputs": [
    {
     "name": "stderr",
     "output_type": "stream",
     "text": [
      "/Users/alice/miniforge3/envs/muir-dev/lib/python3.10/site-packages/nbdev/doclinks.py:20: UserWarning: pkg_resources is deprecated as an API. See https://setuptools.pypa.io/en/latest/pkg_resources.html. The pkg_resources package is slated for removal as early as 2025-11-30. Refrain from using this package or pin to Setuptools<81.\n",
      "  import pkg_resources,importlib\n"
     ]
    }
   ],
   "source": [
    "#| hide\n",
    "from nbdev.showdoc import *"
   ]
  },
  {
   "cell_type": "code",
   "execution_count": null,
   "id": "29457d4c",
   "metadata": {},
   "outputs": [],
   "source": [
    "%load_ext autoreload\n",
    "%autoreload 2"
   ]
  },
  {
   "cell_type": "code",
   "execution_count": null,
   "id": "fe7a42bf",
   "metadata": {},
   "outputs": [],
   "source": [
    "#| export\n",
    "import rasterio\n",
    "import numpy as np\n",
    "import pandas as pd\n",
    "import geopandas as gpd\n",
    "import yaml\n",
    "import os"
   ]
  },
  {
   "cell_type": "code",
   "execution_count": null,
   "id": "cd531377",
   "metadata": {},
   "outputs": [],
   "source": [
    "#| export\n",
    "from muir import BIOPHYSICAL_DB_COLUMNS\n",
    "from muir.core import *\n",
    "from muir.raster import *\n",
    "from muir.visualization import *"
   ]
  },
  {
   "cell_type": "code",
   "execution_count": null,
   "id": "c629b01a",
   "metadata": {},
   "outputs": [],
   "source": [
    "#| export\n",
    "def make_biophysical_table_template(\n",
    "    lulc_df: pd.DataFrame,         # DataFrame with LULC classes and names\n",
    "    columns: list,                 # List of column names for the biophysical values\n",
    "    output_csv_path: str           # Output CSV file path\n",
    "    ) -> pd.DataFrame:\n",
    "    df = lulc_df.copy().reset_index(drop=True)\n",
    "    table = pd.DataFrame()\n",
    "    table[\"lucode\"] = df[\"class\"]\n",
    "    table[\"description\"] = df[\"class_name\"]\n",
    "    for col in columns:\n",
    "        table[col] = \"\"\n",
    "    table.to_csv(output_csv_path, index=False)\n",
    "    return table"
   ]
  },
  {
   "cell_type": "markdown",
   "id": "b8871f67",
   "metadata": {},
   "source": [
    "We can for example create a template for the Sediment Delivery Ratio (SDR) model we can then import to e.g. Excel or Google Sheets."
   ]
  },
  {
   "cell_type": "code",
   "execution_count": null,
   "id": "4ada8026",
   "metadata": {},
   "outputs": [
    {
     "data": {
      "application/vnd.microsoft.datawrangler.viewer.v0+json": {
       "columns": [
        {
         "name": "index",
         "rawType": "int64",
         "type": "integer"
        },
        {
         "name": "lucode",
         "rawType": "int64",
         "type": "integer"
        },
        {
         "name": "description",
         "rawType": "object",
         "type": "string"
        },
        {
         "name": "usle_c",
         "rawType": "object",
         "type": "string"
        },
        {
         "name": "usle_p",
         "rawType": "object",
         "type": "string"
        }
       ],
       "ref": "e4b44d96-6743-4883-9354-6a3e2269ae84",
       "rows": [
        [
         "0",
         "3",
         "Forest Formation",
         "",
         ""
        ],
        [
         "1",
         "11",
         "Wetland",
         "",
         ""
        ]
       ],
       "shape": {
        "columns": 4,
        "rows": 2
       }
      },
      "text/html": [
       "<div>\n",
       "<style scoped>\n",
       "    .dataframe tbody tr th:only-of-type {\n",
       "        vertical-align: middle;\n",
       "    }\n",
       "\n",
       "    .dataframe tbody tr th {\n",
       "        vertical-align: top;\n",
       "    }\n",
       "\n",
       "    .dataframe thead th {\n",
       "        text-align: right;\n",
       "    }\n",
       "</style>\n",
       "<table border=\"1\" class=\"dataframe\">\n",
       "  <thead>\n",
       "    <tr style=\"text-align: right;\">\n",
       "      <th></th>\n",
       "      <th>lucode</th>\n",
       "      <th>description</th>\n",
       "      <th>usle_c</th>\n",
       "      <th>usle_p</th>\n",
       "    </tr>\n",
       "  </thead>\n",
       "  <tbody>\n",
       "    <tr>\n",
       "      <th>0</th>\n",
       "      <td>3</td>\n",
       "      <td>Forest Formation</td>\n",
       "      <td></td>\n",
       "      <td></td>\n",
       "    </tr>\n",
       "    <tr>\n",
       "      <th>1</th>\n",
       "      <td>11</td>\n",
       "      <td>Wetland</td>\n",
       "      <td></td>\n",
       "      <td></td>\n",
       "    </tr>\n",
       "  </tbody>\n",
       "</table>\n",
       "</div>"
      ],
      "text/plain": [
       "   lucode       description usle_c usle_p\n",
       "0       3  Forest Formation              \n",
       "1      11           Wetland              "
      ]
     },
     "execution_count": null,
     "metadata": {},
     "output_type": "execute_result"
    }
   ],
   "source": [
    "SDR_db_columns = BIOPHYSICAL_DB_COLUMNS[\"SDR\"]\n",
    "biophysical_table_csv = get_demo_path(\"biophysical_table/template_SDR.csv\")\n",
    "\n",
    "lulc_path = get_demo_path(\"lulc/mapbiomas-30m-2023-5880.tif\")\n",
    "lulc_clr_path = get_demo_path(\"lulc/mapbiomas-lulc-color-codes.clr\")\n",
    "lulc_df = load_lulc(lulc_path, lulc_clr_path)\n",
    "\n",
    "db_template = make_biophysical_table_template(\n",
    "    lulc_df, \n",
    "    SDR_db_columns,\n",
    "    biophysical_table_csv\n",
    ")\n",
    "db_template.head(2)"
   ]
  },
  {
   "cell_type": "markdown",
   "id": "7091177a",
   "metadata": {},
   "source": [
    "### Sensitivity Analysis Biophysical Table"
   ]
  },
  {
   "cell_type": "markdown",
   "id": "efbaa79e",
   "metadata": {},
   "source": [
    "When creating biophysical tables, we may often encounter multiple values in the literature. Therefore, we may want to try a range of values to see the effects on the output. Some common settings could be -50%, +50%, -10%, and +10%."
   ]
  },
  {
   "cell_type": "code",
   "execution_count": null,
   "id": "96eb8cc7",
   "metadata": {},
   "outputs": [],
   "source": [
    "#| export\n",
    "from pathlib import Path\n",
    "\n",
    "def update_bio_db(\n",
    "    biophysical_table_path: str, # Path to biophysical table to change\n",
    "    lulc_code: int,              # LULC code to update\n",
    "    param: str|list,                  # Parameter to update\n",
    "    percentage_change: float,    # Percentage change to apply (e.g., -10 for -10%)\n",
    "    save_dir:str|None = None      # Wether to save the new biodf to file\n",
    "):\n",
    "    bio_df = pd.read_csv(biophysical_table_path)\n",
    "    change_factor = 1 + (percentage_change / 100)\n",
    "\n",
    "    if isinstance(param, str):\n",
    "        param = [param]\n",
    "    for p in param:\n",
    "        bio_df.loc[bio_df['lucode'] == lulc_code, p] *= change_factor\n",
    "\n",
    "    if save_dir:\n",
    "        Path(save_dir).mkdir(parents=True, exist_ok=True)\n",
    "\n",
    "        stem = Path(biophysical_table_path).stem\n",
    "        ext = Path(biophysical_table_path).suffix\n",
    "        prcnt_str = str(percentage_change).replace('-', 'm') if percentage_change < 0 else \"p\" + str(percentage_change)\n",
    "        \n",
    "        bio_df_name = f\"{stem}_lulc{lulc_code}-{''.join(param)}-{prcnt_str}{ext}\"\n",
    "        out_path = Path(save_dir) / bio_df_name\n",
    "\n",
    "        bio_df.to_csv(out_path, index=False)\n",
    "        print(f\"Modified biophysical table saved to: {out_path}\")\n",
    "    \n",
    "    return bio_df\n"
   ]
  },
  {
   "cell_type": "code",
   "execution_count": null,
   "id": "f1a7e673",
   "metadata": {},
   "outputs": [
    {
     "data": {
      "application/vnd.microsoft.datawrangler.viewer.v0+json": {
       "columns": [
        {
         "name": "index",
         "rawType": "int64",
         "type": "integer"
        },
        {
         "name": "lucode",
         "rawType": "int64",
         "type": "integer"
        },
        {
         "name": "description",
         "rawType": "object",
         "type": "string"
        },
        {
         "name": "usle_c",
         "rawType": "float64",
         "type": "float"
        },
        {
         "name": "usle_p",
         "rawType": "float64",
         "type": "float"
        }
       ],
       "ref": "c26aebc2-8653-4fbc-b01c-120ed1cd2a97",
       "rows": [
        [
         "0",
         "3",
         "Forest Formation",
         "0.001",
         "1.0"
        ],
        [
         "1",
         "5",
         "Mangrove",
         "0.002",
         "1.0"
        ]
       ],
       "shape": {
        "columns": 4,
        "rows": 2
       }
      },
      "text/html": [
       "<div>\n",
       "<style scoped>\n",
       "    .dataframe tbody tr th:only-of-type {\n",
       "        vertical-align: middle;\n",
       "    }\n",
       "\n",
       "    .dataframe tbody tr th {\n",
       "        vertical-align: top;\n",
       "    }\n",
       "\n",
       "    .dataframe thead th {\n",
       "        text-align: right;\n",
       "    }\n",
       "</style>\n",
       "<table border=\"1\" class=\"dataframe\">\n",
       "  <thead>\n",
       "    <tr style=\"text-align: right;\">\n",
       "      <th></th>\n",
       "      <th>lucode</th>\n",
       "      <th>description</th>\n",
       "      <th>usle_c</th>\n",
       "      <th>usle_p</th>\n",
       "    </tr>\n",
       "  </thead>\n",
       "  <tbody>\n",
       "    <tr>\n",
       "      <th>0</th>\n",
       "      <td>3</td>\n",
       "      <td>Forest Formation</td>\n",
       "      <td>0.001</td>\n",
       "      <td>1.0</td>\n",
       "    </tr>\n",
       "    <tr>\n",
       "      <th>1</th>\n",
       "      <td>5</td>\n",
       "      <td>Mangrove</td>\n",
       "      <td>0.002</td>\n",
       "      <td>1.0</td>\n",
       "    </tr>\n",
       "  </tbody>\n",
       "</table>\n",
       "</div>"
      ],
      "text/plain": [
       "   lucode       description  usle_c  usle_p\n",
       "0       3  Forest Formation   0.001     1.0\n",
       "1       5          Mangrove   0.002     1.0"
      ]
     },
     "execution_count": null,
     "metadata": {},
     "output_type": "execute_result"
    }
   ],
   "source": [
    "bio_df_path = get_demo_path(\"biophysical_table/demo_SDR.csv\")\n",
    "bio_df = pd.read_csv(bio_df_path)\n",
    "bio_df.head(2)"
   ]
  },
  {
   "cell_type": "markdown",
   "id": "ba5d6e2e",
   "metadata": {},
   "source": [
    "Let's say we want to update the usle_c, we can do it like so:"
   ]
  },
  {
   "cell_type": "code",
   "execution_count": null,
   "id": "30924fc3",
   "metadata": {},
   "outputs": [
    {
     "name": "stdout",
     "output_type": "stream",
     "text": [
      "Modified biophysical table saved to: /Volumes/creek/muir/muir/demo/biophysical_table/sensitivity/demo_SDR_lulc3-usle_c-p50.csv\n"
     ]
    },
    {
     "data": {
      "application/vnd.microsoft.datawrangler.viewer.v0+json": {
       "columns": [
        {
         "name": "index",
         "rawType": "int64",
         "type": "integer"
        },
        {
         "name": "lucode",
         "rawType": "int64",
         "type": "integer"
        },
        {
         "name": "description",
         "rawType": "object",
         "type": "string"
        },
        {
         "name": "usle_c",
         "rawType": "float64",
         "type": "float"
        },
        {
         "name": "usle_p",
         "rawType": "float64",
         "type": "float"
        }
       ],
       "ref": "49ddab2c-6998-4ec9-8c30-97294eb083ea",
       "rows": [
        [
         "0",
         "3",
         "Forest Formation",
         "0.0015",
         "1.0"
        ],
        [
         "1",
         "5",
         "Mangrove",
         "0.002",
         "1.0"
        ]
       ],
       "shape": {
        "columns": 4,
        "rows": 2
       }
      },
      "text/html": [
       "<div>\n",
       "<style scoped>\n",
       "    .dataframe tbody tr th:only-of-type {\n",
       "        vertical-align: middle;\n",
       "    }\n",
       "\n",
       "    .dataframe tbody tr th {\n",
       "        vertical-align: top;\n",
       "    }\n",
       "\n",
       "    .dataframe thead th {\n",
       "        text-align: right;\n",
       "    }\n",
       "</style>\n",
       "<table border=\"1\" class=\"dataframe\">\n",
       "  <thead>\n",
       "    <tr style=\"text-align: right;\">\n",
       "      <th></th>\n",
       "      <th>lucode</th>\n",
       "      <th>description</th>\n",
       "      <th>usle_c</th>\n",
       "      <th>usle_p</th>\n",
       "    </tr>\n",
       "  </thead>\n",
       "  <tbody>\n",
       "    <tr>\n",
       "      <th>0</th>\n",
       "      <td>3</td>\n",
       "      <td>Forest Formation</td>\n",
       "      <td>0.0015</td>\n",
       "      <td>1.0</td>\n",
       "    </tr>\n",
       "    <tr>\n",
       "      <th>1</th>\n",
       "      <td>5</td>\n",
       "      <td>Mangrove</td>\n",
       "      <td>0.0020</td>\n",
       "      <td>1.0</td>\n",
       "    </tr>\n",
       "  </tbody>\n",
       "</table>\n",
       "</div>"
      ],
      "text/plain": [
       "   lucode       description  usle_c  usle_p\n",
       "0       3  Forest Formation  0.0015     1.0\n",
       "1       5          Mangrove  0.0020     1.0"
      ]
     },
     "execution_count": null,
     "metadata": {},
     "output_type": "execute_result"
    }
   ],
   "source": [
    "save_dir = get_demo_path(\"biophysical_table/sensitivity\")\n",
    "updated_df = update_bio_db(\n",
    "    biophysical_table_path=bio_df_path, \n",
    "    lulc_code=3,                            # 3 for Forest Formation\n",
    "    param='usle_c', \n",
    "    percentage_change=50, \n",
    "    save_dir=save_dir\n",
    ")\n",
    "updated_df.head(2)"
   ]
  },
  {
   "cell_type": "markdown",
   "id": "9d22aa80",
   "metadata": {},
   "source": [
    "To determine which which lucodes to perform this sensitivity analysis with, sometimes we can limit to the 3 most common lulc codes in the raster."
   ]
  },
  {
   "cell_type": "code",
   "execution_count": null,
   "id": "75ffe781",
   "metadata": {},
   "outputs": [
    {
     "data": {
      "application/vnd.microsoft.datawrangler.viewer.v0+json": {
       "columns": [
        {
         "name": "index",
         "rawType": "int64",
         "type": "integer"
        },
        {
         "name": "class",
         "rawType": "uint8",
         "type": "integer"
        },
        {
         "name": "pixel_count",
         "rawType": "int64",
         "type": "integer"
        },
        {
         "name": "area_m2",
         "rawType": "float64",
         "type": "float"
        }
       ],
       "ref": "ab011388-706a-4df0-baff-3b080d9ee67d",
       "rows": [
        [
         "1",
         "3",
         "1163784",
         "954330324.117314"
        ],
        [
         "7",
         "24",
         "699433",
         "573551553.8865849"
        ],
        [
         "6",
         "21",
         "382874",
         "313965708.8567058"
        ]
       ],
       "shape": {
        "columns": 3,
        "rows": 3
       }
      },
      "text/html": [
       "<div>\n",
       "<style scoped>\n",
       "    .dataframe tbody tr th:only-of-type {\n",
       "        vertical-align: middle;\n",
       "    }\n",
       "\n",
       "    .dataframe tbody tr th {\n",
       "        vertical-align: top;\n",
       "    }\n",
       "\n",
       "    .dataframe thead th {\n",
       "        text-align: right;\n",
       "    }\n",
       "</style>\n",
       "<table border=\"1\" class=\"dataframe\">\n",
       "  <thead>\n",
       "    <tr style=\"text-align: right;\">\n",
       "      <th></th>\n",
       "      <th>class</th>\n",
       "      <th>pixel_count</th>\n",
       "      <th>area_m2</th>\n",
       "    </tr>\n",
       "  </thead>\n",
       "  <tbody>\n",
       "    <tr>\n",
       "      <th>1</th>\n",
       "      <td>3</td>\n",
       "      <td>1163784</td>\n",
       "      <td>9.543303e+08</td>\n",
       "    </tr>\n",
       "    <tr>\n",
       "      <th>7</th>\n",
       "      <td>24</td>\n",
       "      <td>699433</td>\n",
       "      <td>5.735516e+08</td>\n",
       "    </tr>\n",
       "    <tr>\n",
       "      <th>6</th>\n",
       "      <td>21</td>\n",
       "      <td>382874</td>\n",
       "      <td>3.139657e+08</td>\n",
       "    </tr>\n",
       "  </tbody>\n",
       "</table>\n",
       "</div>"
      ],
      "text/plain": [
       "   class  pixel_count       area_m2\n",
       "1      3      1163784  9.543303e+08\n",
       "7     24       699433  5.735516e+08\n",
       "6     21       382874  3.139657e+08"
      ]
     },
     "execution_count": null,
     "metadata": {},
     "output_type": "execute_result"
    }
   ],
   "source": [
    "pixel_stats = lulc_pixel_stats(get_demo_path(\"lulc/mapbiomas-30m-2023-5880.tif\"))\n",
    "pixel_stats = pixel_stats.sort_values(\"pixel_count\", ascending=False)\n",
    "pixel_stats.head(3)"
   ]
  },
  {
   "cell_type": "markdown",
   "id": "c0be75a9",
   "metadata": {},
   "source": [
    "For instance, we can see that the classes 3, 24, and 21 are the most common. So an initial step could be to target them."
   ]
  },
  {
   "cell_type": "code",
   "execution_count": null,
   "id": "61649655",
   "metadata": {},
   "outputs": [
    {
     "data": {
      "application/vnd.microsoft.datawrangler.viewer.v0+json": {
       "columns": [
        {
         "name": "index",
         "rawType": "int64",
         "type": "integer"
        },
        {
         "name": "class",
         "rawType": "int64",
         "type": "integer"
        },
        {
         "name": "class_name",
         "rawType": "object",
         "type": "string"
        }
       ],
       "ref": "0599f177-a642-4b90-8ac0-c0323ee8ff39",
       "rows": [
        [
         "0",
         "3",
         "Forest Formation"
        ],
        [
         "1",
         "24",
         "Urban Area"
        ],
        [
         "2",
         "21",
         "Mosaic of Uses"
        ]
       ],
       "shape": {
        "columns": 2,
        "rows": 3
       }
      },
      "text/html": [
       "<div>\n",
       "<style scoped>\n",
       "    .dataframe tbody tr th:only-of-type {\n",
       "        vertical-align: middle;\n",
       "    }\n",
       "\n",
       "    .dataframe tbody tr th {\n",
       "        vertical-align: top;\n",
       "    }\n",
       "\n",
       "    .dataframe thead th {\n",
       "        text-align: right;\n",
       "    }\n",
       "</style>\n",
       "<table border=\"1\" class=\"dataframe\">\n",
       "  <thead>\n",
       "    <tr style=\"text-align: right;\">\n",
       "      <th></th>\n",
       "      <th>class</th>\n",
       "      <th>class_name</th>\n",
       "    </tr>\n",
       "  </thead>\n",
       "  <tbody>\n",
       "    <tr>\n",
       "      <th>0</th>\n",
       "      <td>3</td>\n",
       "      <td>Forest Formation</td>\n",
       "    </tr>\n",
       "    <tr>\n",
       "      <th>1</th>\n",
       "      <td>24</td>\n",
       "      <td>Urban Area</td>\n",
       "    </tr>\n",
       "    <tr>\n",
       "      <th>2</th>\n",
       "      <td>21</td>\n",
       "      <td>Mosaic of Uses</td>\n",
       "    </tr>\n",
       "  </tbody>\n",
       "</table>\n",
       "</div>"
      ],
      "text/plain": [
       "   class        class_name\n",
       "0      3  Forest Formation\n",
       "1     24        Urban Area\n",
       "2     21    Mosaic of Uses"
      ]
     },
     "execution_count": null,
     "metadata": {},
     "output_type": "execute_result"
    }
   ],
   "source": [
    "top3_classes = pixel_stats.head(3)[\"class\"].tolist()\n",
    "lulc_df.set_index(\"class\").loc[top3_classes][[\"class_name\"]].reset_index()"
   ]
  },
  {
   "cell_type": "markdown",
   "id": "643392db",
   "metadata": {},
   "source": [
    "### Validate Biophysical Table\n",
    "\n",
    "Ensure your biophysical table contains the information it needs before running your InVEST model. This can save hours of frustration!"
   ]
  },
  {
   "cell_type": "code",
   "execution_count": null,
   "id": "da3e5947",
   "metadata": {},
   "outputs": [],
   "source": [
    "#| export\n",
    "def check_biophysical_table(\n",
    "    table: pd.DataFrame,\n",
    "    model: str = None,\n",
    "    lulc_df: pd.DataFrame = None\n",
    ") -> None:\n",
    "    \"\"\"\n",
    "    Checks a biophysical table for common issues and prints results with emojis.\n",
    "    \"\"\"\n",
    "    # 1. Missing values\n",
    "    missing_cells = table.isnull().sum().sum()\n",
    "    if missing_cells > 0:\n",
    "        print(f\"❌ Missing values: {int(missing_cells)} cells are empty.\")\n",
    "        for col in table.columns:\n",
    "            n_missing = table[col].isnull().sum()\n",
    "            if n_missing > 0:\n",
    "                print(f\"   - Column '{col}': {n_missing} missing\")\n",
    "    else:\n",
    "        print(\"✅ No missing values.\")\n",
    "\n",
    "    # 2. Missing columns (if model specified)\n",
    "    if model:\n",
    "        required_cols = set(BIOPHYSICAL_DB_COLUMNS.get(model, []))\n",
    "        missing_cols = required_cols - set(table.columns)\n",
    "        if missing_cols:\n",
    "            print(f\"❌ Missing required columns for model '{model}': {sorted(missing_cols)}\")\n",
    "        else:\n",
    "            print(f\"✅ All required columns for model '{model}' are present.\")\n",
    "\n",
    "    # 3. Missing lucode column (regardless)\n",
    "    if 'lucode' not in table.columns:\n",
    "        print(\"❌ Missing 'lucode' column.\")\n",
    "    else:\n",
    "        print(\"✅ 'lucode' column present.\")\n",
    "\n",
    "    # 4. Missing/extra classes (if lulc_df specified)\n",
    "    if lulc_df is not None and 'class' in lulc_df.columns and 'lucode' in table.columns:\n",
    "        expected_classes = set(lulc_df['class'])\n",
    "        table_classes = set(table['lucode'])\n",
    "        missing_classes = expected_classes - table_classes\n",
    "        extra_classes = table_classes - expected_classes\n",
    "\n",
    "        if missing_classes:\n",
    "            missing_info = [\n",
    "                f\"{cls} ({lulc_df.loc[lulc_df['class'] == cls, 'class_name'].values[0]})\"\n",
    "                for cls in sorted(missing_classes)\n",
    "            ]\n",
    "            print(f\"❌ Missing LULC classes in table: {missing_info}\")\n",
    "        else:\n",
    "            print(\"✅ All expected LULC classes are present.\")\n",
    "\n",
    "        if extra_classes:\n",
    "            extra_info = []\n",
    "            for cls in sorted(extra_classes):\n",
    "                # Try to get class name from table if available, else just show code\n",
    "                name = None\n",
    "                if 'description' in table.columns:\n",
    "                    name_row = table.loc[table['lucode'] == cls, 'description']\n",
    "                    if not name_row.empty:\n",
    "                        name = name_row.values[0]\n",
    "                extra_info.append(f\"{cls} ({name})\" if name else str(cls))\n",
    "            print(f\"🟡 Extra LULC classes in table: {extra_info}\")\n",
    "        else:\n",
    "            print(\"✅ No extra LULC classes in table.\")\n",
    "\n",
    "    # 5. Duplicate rows\n",
    "    # Check for duplicated entire rows\n",
    "    if table.duplicated().any():\n",
    "        dup_rows = table[table.duplicated()].index.tolist()\n",
    "        print(f\"❌ Duplicate rows at indices: {dup_rows}\")\n",
    "    else:\n",
    "        print(\"✅ No duplicate rows.\")\n",
    "\n",
    "    # Check for duplicated lulc class (lucode)\n",
    "    if 'lucode' in table.columns:\n",
    "        duplicated_lucode = table['lucode'][table['lucode'].duplicated()].unique()\n",
    "        if len(duplicated_lucode) > 0:\n",
    "            print(f\"❌ Duplicated 'lucode' values: {duplicated_lucode.tolist()}\")\n",
    "        else:\n",
    "            print(\"✅ No duplicated 'lucode' values.\")"
   ]
  },
  {
   "cell_type": "markdown",
   "id": "38dc2d62",
   "metadata": {},
   "source": [
    "Let's try it out."
   ]
  },
  {
   "cell_type": "code",
   "execution_count": null,
   "id": "512449cb",
   "metadata": {},
   "outputs": [
    {
     "data": {
      "application/vnd.microsoft.datawrangler.viewer.v0+json": {
       "columns": [
        {
         "name": "index",
         "rawType": "int64",
         "type": "integer"
        },
        {
         "name": "lucode",
         "rawType": "int64",
         "type": "integer"
        },
        {
         "name": "description",
         "rawType": "object",
         "type": "string"
        },
        {
         "name": "usle_c",
         "rawType": "float64",
         "type": "float"
        },
        {
         "name": "usle_p",
         "rawType": "float64",
         "type": "float"
        }
       ],
       "ref": "5bcdf953-df67-46c4-a5f0-f181247e3e3e",
       "rows": [
        [
         "0",
         "3",
         "Forest Formation",
         "0.001",
         "1.0"
        ],
        [
         "1",
         "5",
         "Mangrove",
         "0.002",
         "1.0"
        ]
       ],
       "shape": {
        "columns": 4,
        "rows": 2
       }
      },
      "text/html": [
       "<div>\n",
       "<style scoped>\n",
       "    .dataframe tbody tr th:only-of-type {\n",
       "        vertical-align: middle;\n",
       "    }\n",
       "\n",
       "    .dataframe tbody tr th {\n",
       "        vertical-align: top;\n",
       "    }\n",
       "\n",
       "    .dataframe thead th {\n",
       "        text-align: right;\n",
       "    }\n",
       "</style>\n",
       "<table border=\"1\" class=\"dataframe\">\n",
       "  <thead>\n",
       "    <tr style=\"text-align: right;\">\n",
       "      <th></th>\n",
       "      <th>lucode</th>\n",
       "      <th>description</th>\n",
       "      <th>usle_c</th>\n",
       "      <th>usle_p</th>\n",
       "    </tr>\n",
       "  </thead>\n",
       "  <tbody>\n",
       "    <tr>\n",
       "      <th>0</th>\n",
       "      <td>3</td>\n",
       "      <td>Forest Formation</td>\n",
       "      <td>0.001</td>\n",
       "      <td>1.0</td>\n",
       "    </tr>\n",
       "    <tr>\n",
       "      <th>1</th>\n",
       "      <td>5</td>\n",
       "      <td>Mangrove</td>\n",
       "      <td>0.002</td>\n",
       "      <td>1.0</td>\n",
       "    </tr>\n",
       "  </tbody>\n",
       "</table>\n",
       "</div>"
      ],
      "text/plain": [
       "   lucode       description  usle_c  usle_p\n",
       "0       3  Forest Formation   0.001     1.0\n",
       "1       5          Mangrove   0.002     1.0"
      ]
     },
     "execution_count": null,
     "metadata": {},
     "output_type": "execute_result"
    }
   ],
   "source": [
    "biophysical_table_path = get_demo_path(\"biophysical_table/tests/demo.csv\")\n",
    "demo_table = pd.read_csv(biophysical_table_path)\n",
    "demo_table.head(2)"
   ]
  },
  {
   "cell_type": "code",
   "execution_count": null,
   "id": "f652baee",
   "metadata": {},
   "outputs": [
    {
     "name": "stdout",
     "output_type": "stream",
     "text": [
      "✅ No missing values.\n",
      "✅ All required columns for model 'SDR' are present.\n",
      "✅ 'lucode' column present.\n",
      "✅ All expected LULC classes are present.\n",
      "🟡 Extra LULC classes in table: ['5 (Mangrove)', '20 (Sugar cane)', '23 (Beach, Dune and Sand Spot)', '32 (Hypersaline Tidal Flat)', '48 (Other Perennial Crops)', '49 (Wooded Sandbank Vegetation)', '50 (Herbaceous Sandbank Vegetation)']\n",
      "✅ No duplicate rows.\n",
      "✅ No duplicated 'lucode' values.\n"
     ]
    }
   ],
   "source": [
    "check_biophysical_table(demo_table, \"SDR\", lulc_df)"
   ]
  },
  {
   "cell_type": "markdown",
   "id": "da9568ef",
   "metadata": {},
   "source": [
    "We can now test different tables."
   ]
  },
  {
   "cell_type": "code",
   "execution_count": null,
   "id": "2664149f",
   "metadata": {},
   "outputs": [
    {
     "name": "stdout",
     "output_type": "stream",
     "text": [
      "✅ No missing values.\n",
      "✅ All required columns for model 'SDR' are present.\n",
      "✅ 'lucode' column present.\n",
      "✅ All expected LULC classes are present.\n",
      "🟡 Extra LULC classes in table: ['5 (Mangrove)', '20 (Sugar cane)', '23 (Beach, Dune and Sand Spot)', '32 (Hypersaline Tidal Flat)', '48 (Other Perennial Crops)', '49 (Wooded Sandbank Vegetation)', '50 (Herbaceous Sandbank Vegetation)', '55 (Extra Class)']\n",
      "✅ No duplicate rows.\n",
      "✅ No duplicated 'lucode' values.\n"
     ]
    }
   ],
   "source": [
    "test_table_path = get_demo_path(\"biophysical_table/tests/extra_class.csv\")\n",
    "test_table = pd.read_csv(test_table_path, keep_default_na=True)\n",
    "check_biophysical_table(test_table, \"SDR\", lulc_df)"
   ]
  },
  {
   "cell_type": "code",
   "execution_count": null,
   "id": "59a31a19",
   "metadata": {},
   "outputs": [
    {
     "name": "stdout",
     "output_type": "stream",
     "text": [
      "✅ No missing values.\n",
      "✅ All required columns for model 'SDR' are present.\n",
      "✅ 'lucode' column present.\n",
      "❌ Missing LULC classes in table: ['15 (Pasture)']\n",
      "🟡 Extra LULC classes in table: ['5 (Mangrove)', '20 (Sugar cane)', '23 (Beach, Dune and Sand Spot)', '32 (Hypersaline Tidal Flat)', '48 (Other Perennial Crops)', '49 (Wooded Sandbank Vegetation)', '50 (Herbaceous Sandbank Vegetation)']\n",
      "✅ No duplicate rows.\n",
      "✅ No duplicated 'lucode' values.\n"
     ]
    }
   ],
   "source": [
    "test_table_path = get_demo_path(\"biophysical_table/tests/missing_class.csv\")\n",
    "test_table = pd.read_csv(test_table_path, keep_default_na=True)\n",
    "check_biophysical_table(test_table, \"SDR\", lulc_df)"
   ]
  },
  {
   "cell_type": "code",
   "execution_count": null,
   "id": "d477b046",
   "metadata": {},
   "outputs": [
    {
     "name": "stdout",
     "output_type": "stream",
     "text": [
      "✅ No missing values.\n",
      "✅ All required columns for model 'SDR' are present.\n",
      "❌ Missing 'lucode' column.\n",
      "✅ No duplicate rows.\n"
     ]
    }
   ],
   "source": [
    "test_table_path = get_demo_path(\"biophysical_table/tests/missing_lucode_column.csv\")\n",
    "test_table = pd.read_csv(test_table_path, keep_default_na=True)\n",
    "check_biophysical_table(test_table, \"SDR\", lulc_df)"
   ]
  },
  {
   "cell_type": "code",
   "execution_count": null,
   "id": "e8bbc516",
   "metadata": {},
   "outputs": [
    {
     "name": "stdout",
     "output_type": "stream",
     "text": [
      "❌ Missing values: 1 cells are empty.\n",
      "   - Column 'usle_c': 1 missing\n",
      "✅ All required columns for model 'SDR' are present.\n",
      "✅ 'lucode' column present.\n",
      "✅ All expected LULC classes are present.\n",
      "🟡 Extra LULC classes in table: ['5 (Mangrove)', '20 (Sugar cane)', '23 (Beach, Dune and Sand Spot)', '32 (Hypersaline Tidal Flat)', '48 (Other Perennial Crops)', '49 (Wooded Sandbank Vegetation)', '50 (Herbaceous Sandbank Vegetation)']\n",
      "✅ No duplicate rows.\n",
      "✅ No duplicated 'lucode' values.\n"
     ]
    }
   ],
   "source": [
    "test_table_path = get_demo_path(\"biophysical_table/tests/missing_value.csv\")\n",
    "test_table = pd.read_csv(test_table_path, keep_default_na=True)\n",
    "check_biophysical_table(test_table, \"SDR\", lulc_df)"
   ]
  },
  {
   "cell_type": "code",
   "execution_count": null,
   "id": "e9641e2d",
   "metadata": {},
   "outputs": [
    {
     "name": "stdout",
     "output_type": "stream",
     "text": [
      "❌ Missing values: 3 cells are empty.\n",
      "   - Column 'usle_c': 2 missing\n",
      "   - Column 'usle_p': 1 missing\n",
      "✅ All required columns for model 'SDR' are present.\n",
      "✅ 'lucode' column present.\n",
      "✅ All expected LULC classes are present.\n",
      "🟡 Extra LULC classes in table: ['5 (Mangrove)', '20 (Sugar cane)', '23 (Beach, Dune and Sand Spot)', '32 (Hypersaline Tidal Flat)', '48 (Other Perennial Crops)', '49 (Wooded Sandbank Vegetation)', '50 (Herbaceous Sandbank Vegetation)']\n",
      "✅ No duplicate rows.\n",
      "✅ No duplicated 'lucode' values.\n"
     ]
    }
   ],
   "source": [
    "test_table_path = get_demo_path(\"biophysical_table/tests/missing_values.csv\")\n",
    "test_table = pd.read_csv(test_table_path, keep_default_na=True)\n",
    "check_biophysical_table(test_table, \"SDR\", lulc_df)"
   ]
  },
  {
   "cell_type": "code",
   "execution_count": null,
   "id": "c9de9a25",
   "metadata": {},
   "outputs": [
    {
     "name": "stdout",
     "output_type": "stream",
     "text": [
      "✅ No missing values.\n",
      "✅ All required columns for model 'SDR' are present.\n",
      "✅ 'lucode' column present.\n",
      "✅ All expected LULC classes are present.\n",
      "🟡 Extra LULC classes in table: ['5 (Mangrove)', '20 (Sugar cane)', '23 (Beach, Dune and Sand Spot)', '32 (Hypersaline Tidal Flat)', '48 (Other Perennial Crops)', '49 (Wooded Sandbank Vegetation)', '50 (Herbaceous Sandbank Vegetation)']\n",
      "✅ No duplicate rows.\n",
      "❌ Duplicated 'lucode' values: [20]\n"
     ]
    }
   ],
   "source": [
    "test_table_path = get_demo_path(\"biophysical_table/tests/duplicate_row.csv\")\n",
    "test_table = pd.read_csv(test_table_path, keep_default_na=True, index_col=False)\n",
    "check_biophysical_table(test_table, \"SDR\", lulc_df)"
   ]
  },
  {
   "cell_type": "code",
   "execution_count": null,
   "id": "e6f72c7d",
   "metadata": {},
   "outputs": [
    {
     "name": "stdout",
     "output_type": "stream",
     "text": [
      "✅ No missing values.\n",
      "✅ All required columns for model 'SDR' are present.\n",
      "✅ 'lucode' column present.\n",
      "✅ All expected LULC classes are present.\n",
      "🟡 Extra LULC classes in table: ['5 (Mangrove)', '20 (Sugar cane)', '23 (Beach, Dune and Sand Spot)', '32 (Hypersaline Tidal Flat)', '48 (Other Perennial Crops)', '49 (Wooded Sandbank Vegetation)', '50 (Herbaceous Sandbank Vegetation)']\n",
      "❌ Duplicate rows at indices: [11]\n",
      "❌ Duplicated 'lucode' values: [20]\n"
     ]
    }
   ],
   "source": [
    "test_table_path = get_demo_path(\"biophysical_table/tests/duplicate_row_2.csv\")\n",
    "test_table = pd.read_csv(test_table_path, keep_default_na=True, index_col=False)\n",
    "check_biophysical_table(test_table, \"SDR\", lulc_df)"
   ]
  },
  {
   "cell_type": "code",
   "execution_count": null,
   "id": "db0b96d9",
   "metadata": {},
   "outputs": [],
   "source": []
  },
  {
   "cell_type": "code",
   "execution_count": null,
   "id": "c2859772",
   "metadata": {},
   "outputs": [],
   "source": [
    "#| hide\n",
    "import nbdev; nbdev.nbdev_export()"
   ]
  }
 ],
 "metadata": {
  "kernelspec": {
   "display_name": "python3",
   "language": "python",
   "name": "python3"
  }
 },
 "nbformat": 4,
 "nbformat_minor": 5
}
